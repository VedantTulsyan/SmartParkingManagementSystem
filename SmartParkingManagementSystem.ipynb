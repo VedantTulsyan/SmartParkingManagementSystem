{
  "nbformat": 4,
  "nbformat_minor": 0,
  "metadata": {
    "colab": {
      "provenance": []
    },
    "kernelspec": {
      "name": "python3",
      "display_name": "Python 3"
    },
    "language_info": {
      "name": "python"
    },
    "accelerator": "GPU",
    "gpuClass": "standard"
  },
  "cells": [
    {
      "cell_type": "code",
      "source": [
        "!pip install easyocr"
      ],
      "metadata": {
        "id": "N9DDU7OHCRBs"
      },
      "execution_count": null,
      "outputs": []
    },
    {
      "cell_type": "code",
      "source": [
        "! pip install sqlite-ulid sqlite-jsonschema sqlite-fastrand sqlite-xsv"
      ],
      "metadata": {
        "id": "3E0iFSjkPL_9"
      },
      "execution_count": null,
      "outputs": []
    },
    {
      "cell_type": "markdown",
      "source": [
        "**download folder from:-**\n",
        "https://drive.google.com/drive/folders/1xFYS4KlVR0bVrYGwLDxPmjhGqwnf8CEu?usp=sharing"
      ],
      "metadata": {
        "id": "_-qeAMSZ0EfT"
      }
    },
    {
      "cell_type": "code",
      "source": [
        "%cd ..\n",
        "from google.colab import drive\n",
        "drive.mount('/content/gdrive')\n",
        "\n",
        "#download link given above and save in your drive"
      ],
      "metadata": {
        "id": "z2B2YDCqnh1i"
      },
      "execution_count": null,
      "outputs": []
    },
    {
      "cell_type": "code",
      "source": [
        "!ln -s /content/gdrive/My\\ Drive/ /mydrive\n",
        "%cd /mydrive/AI project"
      ],
      "metadata": {
        "id": "JrS5LhbTnkPD"
      },
      "execution_count": null,
      "outputs": []
    },
    {
      "cell_type": "code",
      "execution_count": null,
      "metadata": {
        "id": "tJNp8csWCHzx"
      },
      "outputs": [],
      "source": [
        "import cv2\n",
        "import numpy as np\n",
        "import os.path\n",
        "import easyocr\n",
        "from matplotlib import pyplot as plt\n",
        "import sqlite3\n",
        "import datetime"
      ]
    },
    {
      "cell_type": "code",
      "source": [
        "\n",
        "classesFile = \"./names.txt\"\n",
        "classNames = []\n",
        "\n",
        "with open(classesFile, 'rt') as f:\n",
        "    classNames = f.read().rstrip('\\n').split('\\n')\n",
        "modelConfiguration = './yolov4-custom.cfg'\n",
        "modelWeights = './yolov4-custom_best.weights'\n",
        "\n",
        "net = cv2.dnn.readNetFromDarknet(modelConfiguration, modelWeights)\n",
        "net.setPreferableBackend(cv2.dnn.DNN_BACKEND_OPENCV)\n",
        "net.setPreferableTarget(cv2.dnn.DNN_TARGET_CPU)"
      ],
      "metadata": {
        "id": "R5g0WLv2nv2N"
      },
      "execution_count": null,
      "outputs": []
    },
    {
      "cell_type": "code",
      "source": [
        "def remove_special_chars(s):\n",
        "    # make a array of char you want to remove\n",
        "    special_chars = ['.', ',', '-', '_', '\\\\', '/',' ',';','[',']',':',\"'\"]\n",
        "    for char in special_chars:\n",
        "      # replce the char with ''\n",
        "        s = s.replace(char, '')\n",
        "    return s\n",
        "\n",
        "def most_frequent_string(arr):\n",
        "    # Initialize a dictionary to count the frequency of each string\n",
        "    freq = {}\n",
        "\n",
        "    # Loop through the array and count the frequency of each string\n",
        "    for string in arr:\n",
        "        if string in freq:\n",
        "            freq[string] += 1\n",
        "        else:\n",
        "            freq[string] = 1\n",
        "\n",
        "    # Find the string with the highest frequency\n",
        "    max_freq = 0\n",
        "    most_freq_string = \"\"\n",
        "    for string in freq:\n",
        "        if freq[string] > max_freq:\n",
        "            max_freq = freq[string]\n",
        "            most_freq_string = string\n",
        "\n",
        "    # Return the most frequent string\n",
        "    return most_freq_string\n"
      ],
      "metadata": {
        "id": "Sw-jJAuxhkqI"
      },
      "execution_count": null,
      "outputs": []
    },
    {
      "cell_type": "code",
      "source": [
        "def findObjects(outputs, img,end):\n",
        "    hT, wT, cT = img.shape\n",
        "    bbox = []\n",
        "    classIds = []\n",
        "    confs = []\n",
        "\n",
        "    for output in outputs:\n",
        "        for det in output:\n",
        "            scores = det[5:]\n",
        "            classId = np.argmax(scores)\n",
        "            confidence = scores[classId]\n",
        "            if confidence > confThreshold:\n",
        "                w, h = int(det[2]*wT), int(det[3]*hT)\n",
        "                x, y = int((det[0]*wT) - w/2), int((det[1]*hT) - h/2)\n",
        "                bbox.append([x, y, w, h])\n",
        "                classIds.append(classId)\n",
        "                confs.append(float(confidence))\n",
        "    indices = cv2.dnn.NMSBoxes(bbox, confs, confThreshold, nmsThreshold)\n",
        "\n",
        "    for i in indices:\n",
        "\n",
        "        i = i\n",
        "        box = bbox[i]\n",
        "        x, y, w, h = box[0], box[1], box[2], box[3]\n",
        "        # print(x,y,w,h)\n",
        "\n",
        "        crop_img = img[y:y+h, x:x+w]\n",
        "        # print(len(crop_img))\n",
        "        if (x<=0 or y<=0 or w<=0 or h<=0):\n",
        "          print('crop_img is empty')\n",
        "        else:\n",
        "          gray_img = cv2.cvtColor(crop_img, cv2.COLOR_BGR2GRAY)\n",
        "          reader = easyocr.Reader(['en'])\n",
        "          result = reader.readtext(gray_img)\n",
        "          if(result[0][1]==[]):\n",
        "            print('empty')\n",
        "            return result_rmsp,4\n",
        "          else:\n",
        "            result_rmsp=remove_special_chars(result[0][1])\n",
        "            end=end+1\n",
        "            # print(end)\n",
        "            print(result_rmsp)\n",
        "            return result_rmsp,end"
      ],
      "metadata": {
        "id": "cxkX2ST9nxoN"
      },
      "execution_count": null,
      "outputs": []
    },
    {
      "cell_type": "code",
      "source": [
        "whT = 320\n",
        "confThreshold = 0.7\n",
        "nmsThreshold = 0.3\n",
        "task = 0\n",
        "resultarr=[]\n",
        "\n",
        "videopath = \"./test_videos/v\" + str(6) + \".mp4\"\n",
        "cap = cv2.VideoCapture(videopath)\n",
        "\n",
        "while True:\n",
        "    success, img = cap.read()\n",
        "    blob = cv2.dnn.blobFromImage(\n",
        "        img, 1/255, (whT, whT), [0, 0, 0], 1, crop=False)\n",
        "    net.setInput(blob)\n",
        "    layerNames = net.getLayerNames()\n",
        "\n",
        "    outputNames = [layerNames[i-1] for i in net.getUnconnectedOutLayers()]\n",
        "    outputs = net.forward(outputNames)\n",
        "    result,task = findObjects(outputs, img,task)\n",
        "    resultarr.append(result)\n",
        "    if(task==4):\n",
        "      break\n",
        "cap.release()"
      ],
      "metadata": {
        "id": "ePC-slMhoGOv"
      },
      "execution_count": null,
      "outputs": []
    },
    {
      "cell_type": "code",
      "source": [
        "print(resultarr)\n",
        "final_detected = most_frequent_string(resultarr)\n",
        "current_time = datetime.datetime.now().strftime(\"%H:%M:%S\")\n",
        "final_detected=final_detected.upper()\n",
        "print(final_detected)"
      ],
      "metadata": {
        "id": "SiJEaV4n6JZm"
      },
      "execution_count": null,
      "outputs": []
    },
    {
      "cell_type": "code",
      "source": [
        "# top_left = tuple(result[0][0][0])\n",
        "# bottom_right = tuple(result[0][0][2])\n",
        "# text = result[0][1]\n",
        "# font = cv2.FONT_HERSHEY_SIMPLEX"
      ],
      "metadata": {
        "id": "JpAcNzNPCiV5"
      },
      "execution_count": null,
      "outputs": []
    },
    {
      "cell_type": "code",
      "source": [
        "# img = cv2.imread(IMAGE_PATH)\n",
        "# img = cv2.rectangle(img,top_left,bottom_right,(0,255,0),3)\n",
        "# img = cv2.putText(img,text,top_left, font, 0.5,(255,255,255),2,cv2.LINE_AA)\n",
        "# plt.imshow(img)\n",
        "# plt.show()"
      ],
      "metadata": {
        "id": "kYja2RC0Dr3d"
      },
      "execution_count": null,
      "outputs": []
    },
    {
      "cell_type": "code",
      "source": [
        "# img = cv2.imread(IMAGE_PATH)\n",
        "# spacer = 140\n",
        "# for detection in result:\n",
        "#     top_left = tuple(detection[0][0])\n",
        "#     bottom_right = tuple(detection[0][2])\n",
        "#     text = detection[1]\n",
        "#     img = cv2.rectangle(img,top_left,bottom_right,(0,255,0),3)\n",
        "#     img = cv2.putText(img,text,(10,spacer), font, 0.5,(0,255,0),2,cv2.LINE_AA)\n",
        "#     spacer+=15\n",
        "\n",
        "# plt.imshow(img)\n",
        "# plt.show()"
      ],
      "metadata": {
        "id": "dZox9IV_Clh0"
      },
      "execution_count": null,
      "outputs": []
    },
    {
      "cell_type": "code",
      "source": [
        "cursor = sqlite3.connect('PMS.db')"
      ],
      "metadata": {
        "id": "KR6E2UxAORb5"
      },
      "execution_count": null,
      "outputs": []
    },
    {
      "cell_type": "code",
      "source": [
        "cursor.execute(\"create table Vehicle (Vehicle_No varchar(11) primary key , Owner_ID bigint not null , Owner_Type varchar(7) not null , Vehicle_Colour varchar(10) , Entry_Time time , Exit_Time time ) ;\")\n",
        "# cursor.execute(\"create table Vehicle (Vehicle_No varchar(11) primary key , Owner_ID bigint not null , Owner_Type varchar(7) not null , Vehicle_Colour varchar(10) , Entry_Time time not null , Exit_Time time ) ;\")\n",
        "\n",
        "cursor.execute(\"create table Student (Student_ID bigint primary key , First_Name varchar(50) not null , Last_Name varchar(50) not null , DOB date not null , Gender varchar(20) not null , Contact_No bigint not null , Blood_Group varchar(3) , Year int not null, Vehicle_No varchar(11) not null, foreign key(Vehicle_No) references Vehicle(Vehicle_No) ) ;\")\n",
        "cursor.execute(\"create table Faculty (Faculty_ID bigint primary key , First_Name varchar(50) not null , Last_Name varchar(50) not null , DOB date not null , Gender varchar(20) not null , Contact_No bigint not null , Blood_Group varchar(3) , Department varchar(20) not null , Vehicle_No varchar(11) not null, foreign key(Vehicle_No) references Vehicle(Vehicle_No) ) ;\")\n",
        "cursor.execute(\"create table Staff (Staff_ID bigint primary key , First_Name varchar(50) not null , Last_Name varchar(50) not null , DOB date not null , Gender varchar(20) not null , Contact_No bigint not null , Blood_Group varchar(3) , Job varchar(20) not null , Vehicle_No varchar(11) not null, foreign key(Vehicle_No) references Vehicle(Vehicle_No) ) ;\")\n",
        "cursor.execute(\"create table Visitor (Visitor_ID bigint primary key , First_Name varchar(50) not null , Last_Name varchar(50) not null , Gender varchar(20) not null , Contact_No bigint not null , Blood_Group varchar(3) , Vehicle_No varchar(11) not null, foreign key(Vehicle_No) references Vehicle(Vehicle_No) ) ;\")\n",
        "# cursor.execute(\"create table Visitor (Visitor_ID bigint primary key , Vehicle_No varchar(10) not null, foreign key(Vehicle_No) references Vehicle(Vehicle_No) ) ;\")\n",
        "\n",
        "cursor.execute(\"create table Parking (Location_ID varchar(4) primary key , Location varchar(20) not null , No_Of_Parking_Spots int not null , Access_To varchar(7) not null ) ;\")\n",
        "cursor.execute(\"create table Parking_Spot (Spot_ID int primary key , Location_ID varchar(4) not null , Vehicle_No varchar(10) not null, foreign key(Vehicle_No) references Vehicle(Vehicle_No) ) ;\")\n",
        "\n",
        "cursor.execute(\"create table Violation_Index (Vehicle_No varchar(10) not null , Violation_Code int not null, foreign key(Vehicle_No) references Vehicle(Vehicle_No) ) ;\")\n",
        "cursor.execute(\"create table Violation (Violation_Code int primary key , Description varchar(20) not null , fine int not null ) ;\")"
      ],
      "metadata": {
        "id": "EAR7Vy1_Q4de"
      },
      "execution_count": null,
      "outputs": []
    },
    {
      "cell_type": "code",
      "source": [
        "# cursor.execute(\"create table Vehicle (Vehicle_No varchar(10) primary key , Owner_ID bigint not null , Owner_Type varchar(7) not null , Vehicle_Count int not null , Vehicle_Colour varchar(10) , Entry_Time time not null , Exit_Time time not null ) ;\")"
      ],
      "metadata": {
        "id": "N8h_oiRmT3x8"
      },
      "execution_count": null,
      "outputs": []
    },
    {
      "cell_type": "code",
      "source": [
        "cursor.execute(\"drop table Vehicle ; \" )\n",
        "\n",
        "cursor.execute(\"drop table Student ; \" )\n",
        "cursor.execute(\"drop table Faculty ; \" )\n",
        "cursor.execute(\"drop table Staff ; \" )\n",
        "cursor.execute(\"drop table Visitor ; \" )\n",
        "\n",
        "cursor.execute(\"drop table Parking ; \" )\n",
        "cursor.execute(\"drop table Parking_Spot ; \" )\n",
        "\n",
        "cursor.execute(\"drop table Violation_Index ; \" )\n",
        "cursor.execute(\"drop table Violation ; \" )"
      ],
      "metadata": {
        "id": "By-vxwfESNSX"
      },
      "execution_count": null,
      "outputs": []
    },
    {
      "cell_type": "code",
      "source": [
        "cursor.execute(\"INSERT INTO vehicle values('{}','{}','{}','{}','{}','{}');\".format(\"MH01TC0502\" , \"101\" , \"Student\" , \"Grey\" , \"\" , \"\" ))\n",
        "cursor.execute(\"INSERT INTO vehicle values('{}','{}','{}','{}','{}','{}');\".format(\"HR98TC0047\" , \"201\" , \"Faculty\" , \"Blue\" , \"\", \"\" ))\n",
        "cursor.execute(\"INSERT INTO vehicle values('{}','{}','{}','{}','{}','{}');\".format(\"MH14TCL248\" , \"301\" , \"Staff\" , \"White\" , \"\", \"\" ))\n",
        "cursor.execute(\"INSERT INTO vehicle values('{}','{}','{}','{}','{}','{}');\".format(\"MH14JM1218\" , \"401\" , \"Visitor\" , \"Silver\" , \"\", \"\" ))\n",
        "# MH01TC0502\n",
        "# HR98TC0047\n",
        "# MH14TCL248\n",
        "# MH14JM1218"
      ],
      "metadata": {
        "id": "eIMoQ9XZSyXG"
      },
      "execution_count": null,
      "outputs": []
    },
    {
      "cell_type": "code",
      "source": [
        "current_time = datetime.datetime.now().strftime(\"%H:%M:%S\")\n",
        "\n",
        "cursor.execute(\"UPDATE vehicle SET Entry_Time = ? WHERE Vehicle_No = ?\", (current_time, \"MH01TC0502\"))\n",
        "cursor.execute(\"UPDATE vehicle SET Entry_Time = ? WHERE Vehicle_No = ?\", (current_time, \"HR98TC0047\"))\n",
        "cursor.execute(\"UPDATE vehicle SET Entry_Time = ? WHERE Vehicle_No = ?\", (current_time, \"MH14TCL248\"))\n",
        "cursor.execute(\"UPDATE vehicle SET Entry_Time = ? WHERE Vehicle_No = ?\", (current_time, \"MH14JM1218\"))"
      ],
      "metadata": {
        "id": "1xPTPrkEszPl"
      },
      "execution_count": null,
      "outputs": []
    },
    {
      "cell_type": "code",
      "source": [
        "current_time = datetime.datetime.now().strftime(\"%H:%M:%S\")\n",
        "\n",
        "cursor.execute(\"UPDATE vehicle SET Exit_Time = ? WHERE Vehicle_No = ?\", (current_time, \"MH01TC0502\"))\n",
        "cursor.execute(\"UPDATE vehicle SET Exit_Time = ? WHERE Vehicle_No = ?\", (current_time, \"HR98TC0047\"))\n",
        "cursor.execute(\"UPDATE vehicle SET Exit_Time = ? WHERE Vehicle_No = ?\", (current_time, \"MH14TCL248\"))\n",
        "cursor.execute(\"UPDATE vehicle SET Exit_Time = ? WHERE Vehicle_No = ?\", (current_time, \"MH14JM1218\"))"
      ],
      "metadata": {
        "id": "79TIZRs5K2go"
      },
      "execution_count": null,
      "outputs": []
    },
    {
      "cell_type": "code",
      "source": [
        "cursor.execute(\"INSERT INTO Student values('{}','{}','{}','{}','{}','{}','{}','{}','{}');\".format(\"101\" , \"Ram\" , \"Kumar\" , \"2002/11/05\" , \"Male\" , \"1234567890\" , \"A+\" , \"2\" , \"MH01TC0502\" ))\n",
        "cursor.execute(\"INSERT INTO Faculty values('{}','{}','{}','{}','{}','{}','{}','{}','{}');\".format(\"201\" , \"Shyam\" , \"Sharma\" , \"1984/05/12\", \"Male\" , \"1236547890\" , \"O+\" , \"CSED\" , \"HR98TC0047\" ))\n",
        "cursor.execute(\"INSERT INTO Staff values('{}','{}','{}','{}','{}','{}','{}','{}','{}');\".format(\"301\" , \"Ramesh\" , \"Gupta\" , \"1992/02/29\", \"Male\" , \"3214567890\" , \"A+\" , \"Janitor\" , \"MH14TCL248\" ))\n",
        "cursor.execute(\"INSERT INTO Visitor values('{}','{}','{}','{}','{}','{}','{}');\".format(\"401\" , \"Suresh\" , \"Patel\" , \"Male\", \"1234569870\" , \"B-\" , \"MH14JM1218\" ))"
      ],
      "metadata": {
        "id": "CgK7DrfL643G"
      },
      "execution_count": null,
      "outputs": []
    },
    {
      "cell_type": "code",
      "source": [
        "t1 = cursor.execute(\"select * from vehicle ;\")\n",
        "for row in t1:\n",
        "  print(row)\n",
        "print()\n",
        "t2 = cursor.execute(\"select * from student ;\")\n",
        "for row in t2:\n",
        "  print(row)\n",
        "print()\n",
        "t3 = cursor.execute(\"select * from faculty ;\")\n",
        "for row in t3:\n",
        "  print(row)\n",
        "print()\n",
        "t4 = cursor.execute(\"select * from staff ;\")\n",
        "for row in t4:\n",
        "  print(row)\n",
        "print()\n",
        "t5 = cursor.execute(\"select * from visitor ;\")\n",
        "for row in t5:\n",
        "  print(row)"
      ],
      "metadata": {
        "id": "LgZxTKtBRWsR"
      },
      "execution_count": null,
      "outputs": []
    }
  ]
}